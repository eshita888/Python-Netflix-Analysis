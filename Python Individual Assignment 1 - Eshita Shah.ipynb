{
 "cells": [
  {
   "cell_type": "markdown",
   "id": "7f7cc8d6-33a3-4813-b461-17847387b012",
   "metadata": {
    "tags": []
   },
   "source": [
    "# Restaurant Bill Calculator"
   ]
  },
  {
   "cell_type": "markdown",
   "id": "d4f63c17-b75f-42c6-b3cb-688a84865b66",
   "metadata": {},
   "source": [
    "## Restaurant Menu"
   ]
  },
  {
   "cell_type": "code",
   "execution_count": 20,
   "id": "c050049f-0ea7-4aee-aa33-f763643264bf",
   "metadata": {
    "tags": []
   },
   "outputs": [
    {
     "name": "stdout",
     "output_type": "stream",
     "text": [
      "\n",
      "Restaurant Menu\n",
      "\n",
      "Margherita Pizza 20 RM\n",
      "\n",
      "Seafood Marinara Pasta 18 RM\n",
      "\n",
      "Spicy Chicken Burger 21 RM\n",
      "\n",
      "Chocolate Pancakes 15 RM\n",
      "\n",
      "Coffee 3 RM\n",
      "\n",
      "Tea 3 RM\n",
      "\n"
     ]
    }
   ],
   "source": [
    "# This is the restaurant menu\n",
    "Menu = (\"\"\"\n",
    "Restaurant Menu\n",
    "\n",
    "Margherita Pizza 20 RM\n",
    "\n",
    "Seafood Marinara Pasta 18 RM\n",
    "\n",
    "Spicy Chicken Burger 21 RM\n",
    "\n",
    "Chocolate Pancakes 15 RM\n",
    "\n",
    "Coffee 3 RM\n",
    "\n",
    "Tea 3 RM\n",
    "\"\"\")\n",
    "\n",
    "# This code is to print the menu\n",
    "print (Menu)"
   ]
  },
  {
   "cell_type": "markdown",
   "id": "af9d8970-d235-48c8-a5df-468391a5939d",
   "metadata": {},
   "source": [
    "## Food Order and Final Total"
   ]
  },
  {
   "cell_type": "code",
   "execution_count": 28,
   "id": "2f3b2fc4-201d-4b00-9e34-05996e53138d",
   "metadata": {
    "tags": []
   },
   "outputs": [
    {
     "name": "stdin",
     "output_type": "stream",
     "text": [
      "Item:  Spicy Chicken Burger\n",
      "How many would you like to order:  2\n"
     ]
    },
    {
     "name": "stdout",
     "output_type": "stream",
     "text": [
      "I would like to order Spicy Chicken Burger and the quantity is 2. Your total is 42 \n"
     ]
    },
    {
     "name": "stdin",
     "output_type": "stream",
     "text": [
      "What is your tax rate:  .20\n",
      "What is your tip amount:  .20\n"
     ]
    },
    {
     "name": "stdout",
     "output_type": "stream",
     "text": [
      "This is your final total 58.8. Thank you\n"
     ]
    }
   ],
   "source": [
    "# This calculator is only for 'Spicy Chicken Burger'.\n",
    "# In order to change the food item, you can change the price below in the subtotal variable formula. \n",
    "# The price for Spicy Chicken Burger is 21 rm, the prices for other food items are in the menu above.\n",
    "\n",
    "# This code is for the customer to input their food order and desired quantity.\n",
    "Food = str(input(\"Item: \"))\n",
    "Quantity = int(input(\"How many would you like to order: \"))\n",
    "\n",
    "# This is the subtotal formula, which is the price of spicy chicken burger multiplied by the quantity of food ordered.\n",
    "Subtotal = 21 * Quantity \n",
    "\n",
    "# This code is to print the customer's subtotal.\n",
    "print(f\"I would like to order {Food} and the quantity is {Quantity}. Your total is {Subtotal} \")\n",
    "\n",
    "# User can input the tax rate here\n",
    "TaxRate = float(input(\"What is your tax rate: \"))\n",
    "Tip = float(input(\"What is your tip rate: \"))\n",
    "\n",
    "# This is the final total formula, which is the subtotal multiplied by the tax rate and tip rate and added with the subtotal.\n",
    "FinalTotal = (Subtotal * TaxRate) + (Subtotal * Tip) + Subtotal\n",
    "\n",
    "# This code is to print the customer's final total, \n",
    "print(f\"This is your final total {FinalTotal}. Thank you\")"
   ]
  },
  {
   "cell_type": "markdown",
   "id": "dcb4ff5e-ba82-433a-b3ed-b4e16bf1fc3c",
   "metadata": {},
   "source": [
    "#### Code written by Eshita Shah"
   ]
  },
  {
   "cell_type": "code",
   "execution_count": null,
   "id": "eb07643c-a958-4fb6-b3cf-baa12ddd8ff8",
   "metadata": {},
   "outputs": [],
   "source": []
  }
 ],
 "metadata": {
  "kernelspec": {
   "display_name": "Python 3 (ipykernel)",
   "language": "python",
   "name": "python3"
  },
  "language_info": {
   "codemirror_mode": {
    "name": "ipython",
    "version": 3
   },
   "file_extension": ".py",
   "mimetype": "text/x-python",
   "name": "python",
   "nbconvert_exporter": "python",
   "pygments_lexer": "ipython3",
   "version": "3.11.5"
  }
 },
 "nbformat": 4,
 "nbformat_minor": 5
}
